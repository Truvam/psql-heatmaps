{
 "cells": [
  {
   "cell_type": "code",
   "execution_count": 1,
   "metadata": {
    "scrolled": false
   },
   "outputs": [],
   "source": [
    "\"\"\"\n",
    "CONFIGURATION:\n",
    "\n",
    "In this cell we can configure google maps api key, and the database we want to use.\n",
    "We can also use this cell for more general configurations and imports.\n",
    "\"\"\"\n",
    "\n",
    "import database\n",
    "import gmaps\n",
    "\n",
    "gmaps.configure(api_key=\"AIz...\")\n",
    "\n",
    "db = database.db_connect(dbname=\"guest\", user=\"guest\")\n",
    "db.set_client_encoding('UTF8')"
   ]
  },
  {
   "cell_type": "code",
   "execution_count": 2,
   "metadata": {
    "scrolled": false
   },
   "outputs": [
    {
     "name": "stdout",
     "output_type": "stream",
     "text": [
      "   database.db_connect(dbname, user)\n",
      "   database.db_query(db, query)\n",
      "   database.db_print(result)\n",
      "   database.get_centroid(db)\n",
      "   database.get_taxi_stands(db)\n",
      "   database.get_taxi_services(db, limit=-1)\n",
      "   database.get_freguesia_count(db, distrito, concelho)\n",
      "   database.getCoordsScale_freguesia(db, distrito, concelho)\n",
      "   database.get_freguesia_locations(db, distrito, concelho, freguesia)\n",
      "   database.get_centroid_freguesia(db, distrito, concelho, freguesia)\n"
     ]
    }
   ],
   "source": [
    "\"\"\"\n",
    "HELP:\n",
    "\n",
    "Prints functions currently available in database.py.\n",
    "\"\"\"\n",
    "\n",
    "database.help()"
   ]
  },
  {
   "cell_type": "code",
   "execution_count": 3,
   "metadata": {
    "scrolled": true
   },
   "outputs": [],
   "source": [
    "\"\"\"\n",
    "QUERY:\n",
    "\n",
    "In this cell we can configure the query that we want use in our heatmap.\n",
    "The locations variable needs to be an array of tuples with latitute and longitude.\n",
    "\n",
    "Example:\n",
    "    locations = [(41.1603709427206,-8.6223466370208), (41.155704, -8.602515), (41.154408, -8.613297)]\n",
    "\n",
    "Notes: If your query already includes an latitude and longitude database.db_query(db, query) already returns an array of tuples.\n",
    "In doubt check the implementation of get_taxi_services in database.py.\n",
    "\"\"\"\n",
    "\n",
    "locations = database.get_taxi_services(db, limit=300000)"
   ]
  },
  {
   "cell_type": "code",
   "execution_count": 4,
   "metadata": {
    "scrolled": false
   },
   "outputs": [
    {
     "data": {
      "text/plain": [
       "Figure(layout=FigureLayout(height='420px'))"
      ]
     },
     "metadata": {},
     "output_type": "display_data"
    }
   ],
   "source": [
    "\"\"\"\n",
    "HEATMAP:\n",
    "\n",
    "This cell is used to configure and create the heatmap.\n",
    "\"\"\"\n",
    "\n",
    "fig = gmaps.figure()\n",
    "heatmap_layer = gmaps.heatmap_layer(locations)\n",
    "heatmap_layer.max_intensity = 100\n",
    "heatmap_layer.point_radius = 5\n",
    "fig.add_layer(heatmap_layer)\n",
    "fig"
   ]
  },
  {
   "cell_type": "code",
   "execution_count": null,
   "metadata": {},
   "outputs": [],
   "source": []
  }
 ],
 "metadata": {
  "kernelspec": {
   "display_name": "Python 3",
   "language": "python",
   "name": "python3"
  },
  "language_info": {
   "codemirror_mode": {
    "name": "ipython",
    "version": 3
   },
   "file_extension": ".py",
   "mimetype": "text/x-python",
   "name": "python",
   "nbconvert_exporter": "python",
   "pygments_lexer": "ipython3",
   "version": "3.5.2"
  }
 },
 "nbformat": 4,
 "nbformat_minor": 2
}
